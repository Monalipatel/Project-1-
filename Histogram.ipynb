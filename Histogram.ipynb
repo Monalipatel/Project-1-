{
 "cells": [
  {
   "cell_type": "code",
   "execution_count": 1,
   "metadata": {},
   "outputs": [],
   "source": [
    "import pandas as pd\n",
    "import matplotlib.pyplot as plt\n",
    "import numpy as np\n",
    "from scipy.stats import linregress\n",
    "import scipy.stats as st"
   ]
  },
  {
   "cell_type": "code",
   "execution_count": 2,
   "metadata": {},
   "outputs": [],
   "source": [
    "df_2019 = pd.read_csv('Resources/2019.csv')"
   ]
  },
  {
   "cell_type": "code",
   "execution_count": 3,
   "metadata": {},
   "outputs": [
    {
     "data": {
      "text/html": [
       "<div>\n",
       "<style scoped>\n",
       "    .dataframe tbody tr th:only-of-type {\n",
       "        vertical-align: middle;\n",
       "    }\n",
       "\n",
       "    .dataframe tbody tr th {\n",
       "        vertical-align: top;\n",
       "    }\n",
       "\n",
       "    .dataframe thead th {\n",
       "        text-align: right;\n",
       "    }\n",
       "</style>\n",
       "<table border=\"1\" class=\"dataframe\">\n",
       "  <thead>\n",
       "    <tr style=\"text-align: right;\">\n",
       "      <th></th>\n",
       "      <th>Country</th>\n",
       "      <th>Year</th>\n",
       "      <th>Happiness Rank</th>\n",
       "      <th>Happiness Score</th>\n",
       "      <th>Economy (GDP per Capita)</th>\n",
       "      <th>Family/Social Support</th>\n",
       "      <th>Health (Life Expectancy)</th>\n",
       "      <th>Freedom</th>\n",
       "      <th>Trust (Government Corruption)</th>\n",
       "      <th>Generosity</th>\n",
       "    </tr>\n",
       "  </thead>\n",
       "  <tbody>\n",
       "    <tr>\n",
       "      <th>0</th>\n",
       "      <td>Finland</td>\n",
       "      <td>2019</td>\n",
       "      <td>1</td>\n",
       "      <td>7.769</td>\n",
       "      <td>1.340</td>\n",
       "      <td>1.587</td>\n",
       "      <td>0.986</td>\n",
       "      <td>0.596</td>\n",
       "      <td>0.153</td>\n",
       "      <td>0.393</td>\n",
       "    </tr>\n",
       "    <tr>\n",
       "      <th>1</th>\n",
       "      <td>Denmark</td>\n",
       "      <td>2019</td>\n",
       "      <td>2</td>\n",
       "      <td>7.600</td>\n",
       "      <td>1.383</td>\n",
       "      <td>1.573</td>\n",
       "      <td>0.996</td>\n",
       "      <td>0.592</td>\n",
       "      <td>0.252</td>\n",
       "      <td>0.410</td>\n",
       "    </tr>\n",
       "    <tr>\n",
       "      <th>2</th>\n",
       "      <td>Norway</td>\n",
       "      <td>2019</td>\n",
       "      <td>3</td>\n",
       "      <td>7.554</td>\n",
       "      <td>1.488</td>\n",
       "      <td>1.582</td>\n",
       "      <td>1.028</td>\n",
       "      <td>0.603</td>\n",
       "      <td>0.271</td>\n",
       "      <td>0.341</td>\n",
       "    </tr>\n",
       "    <tr>\n",
       "      <th>3</th>\n",
       "      <td>Iceland</td>\n",
       "      <td>2019</td>\n",
       "      <td>4</td>\n",
       "      <td>7.494</td>\n",
       "      <td>1.380</td>\n",
       "      <td>1.624</td>\n",
       "      <td>1.026</td>\n",
       "      <td>0.591</td>\n",
       "      <td>0.354</td>\n",
       "      <td>0.118</td>\n",
       "    </tr>\n",
       "    <tr>\n",
       "      <th>4</th>\n",
       "      <td>Netherlands</td>\n",
       "      <td>2019</td>\n",
       "      <td>5</td>\n",
       "      <td>7.488</td>\n",
       "      <td>1.396</td>\n",
       "      <td>1.522</td>\n",
       "      <td>0.999</td>\n",
       "      <td>0.557</td>\n",
       "      <td>0.322</td>\n",
       "      <td>0.298</td>\n",
       "    </tr>\n",
       "  </tbody>\n",
       "</table>\n",
       "</div>"
      ],
      "text/plain": [
       "       Country  Year  Happiness Rank  Happiness Score  \\\n",
       "0      Finland  2019               1            7.769   \n",
       "1      Denmark  2019               2            7.600   \n",
       "2       Norway  2019               3            7.554   \n",
       "3      Iceland  2019               4            7.494   \n",
       "4  Netherlands  2019               5            7.488   \n",
       "\n",
       "   Economy (GDP per Capita)  Family/Social Support  Health (Life Expectancy)  \\\n",
       "0                     1.340                  1.587                     0.986   \n",
       "1                     1.383                  1.573                     0.996   \n",
       "2                     1.488                  1.582                     1.028   \n",
       "3                     1.380                  1.624                     1.026   \n",
       "4                     1.396                  1.522                     0.999   \n",
       "\n",
       "   Freedom  Trust (Government Corruption)  Generosity  \n",
       "0    0.596                          0.153       0.393  \n",
       "1    0.592                          0.252       0.410  \n",
       "2    0.603                          0.271       0.341  \n",
       "3    0.591                          0.354       0.118  \n",
       "4    0.557                          0.322       0.298  "
      ]
     },
     "execution_count": 3,
     "metadata": {},
     "output_type": "execute_result"
    }
   ],
   "source": [
    "df_2019.head()\n"
   ]
  },
  {
   "cell_type": "code",
   "execution_count": 4,
   "metadata": {},
   "outputs": [
    {
     "data": {
      "image/png": "[encoded data removed]",
      "text/plain": [
       "<Figure size 480x400 with 1 Axes>"
      ]
     },
     "metadata": {
      "needs_background": "light"
     },
     "output_type": "display_data"
    }
   ],
   "source": [
    "# create Histogram\n",
    "\n",
    "# Create the bins in which Data will be held for ages \n",
    "bins = [2.8, 3.3, 3.8, 4.3, 4.8, 5.3, 5.8, 6.3, 6.8, 7.3, 7.8]\n",
    "\n",
    "# Create the names for the  bins\n",
    "group_names = [\"<3.3\", \"3.3-3.8\", \"3.8-4.3\", \"4.3-4.8\", \"4.8-5.3\", \"5.3-5.8\", \"5.8-6.3\", \"6.3-6.8\",\"6.8-7.3\",\"7.3-7.8\"]\n",
    "# Cut them\n",
    "df_2019[\"Happiness_Ranges\"] = pd.cut(df_2019[\"Happiness Score\"], bins, labels=group_names, include_lowest=True)\n",
    "#Create Histogram\n",
    "plt.figure(figsize=(6, 5), dpi=80)\n",
    "plt.style.use(\"ggplot\")\n",
    "plt.hist(df_2019.Happiness_Ranges, color=\"forestgreen\", alpha=0.70, ec=\"white\")\n",
    "plt.xlabel(\"Happiness Ranges\")\n",
    "plt.ylabel(\"Number of Countries\")\n",
    "plt.xticks(rotation=90)\n",
    "plt.title(\"Number of Countries per Happiness Score for 2019\")\n",
    "png_filepath = \"Images/Number of Countries in Happiness Ranges for 2019.png\"\n",
    "plt.savefig(png_filepath)\n",
    "plt.show()"
   ]
  },
  {
   "cell_type": "markdown",
   "metadata": {},
   "source": [
    "# Analysis for Histogram for 2019"
   ]
  },
  {
   "cell_type": "markdown",
   "metadata": {},
   "source": [
    "Highest concentration of countries in the middle ranges between 4.3 and 6.3.  \n",
    "\n",
    "Two peaks between 5.8 to 6.3 and 4.3 to 4.8\n",
    "\n",
    "Slightly more countries > 6.3 vs < 4.3"
   ]
  }
 ],
 "metadata": {
  "kernelspec": {
   "display_name": "Python 3",
   "language": "python",
   "name": "python3"
  },
  "language_info": {
   "codemirror_mode": {
    "name": "ipython",
    "version": 3
   },
   "file_extension": ".py",
   "mimetype": "text/x-python",
   "name": "python",
   "nbconvert_exporter": "python",
   "pygments_lexer": "ipython3",
   "version": "3.6.10"
  },
  "toc": {
   "base_numbering": 1,
   "nav_menu": {},
   "number_sections": true,
   "sideBar": true,
   "skip_h1_title": false,
   "title_cell": "Table of Contents",
   "title_sidebar": "Contents",
   "toc_cell": false,
   "toc_position": {},
   "toc_section_display": true,
   "toc_window_display": false
  }
 },
 "nbformat": 4,
 "nbformat_minor": 2
}
