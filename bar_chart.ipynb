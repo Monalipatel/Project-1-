{
 "cells": [
  {
   "cell_type": "code",
   "execution_count": 1,
   "metadata": {},
   "outputs": [],
   "source": [
    "import pandas as pd\n",
    "import matplotlib.pyplot as plt\n",
    "import numpy as np\n",
    "from scipy.stats import linregress\n",
    "import scipy.stats as st"
   ]
  },
  {
   "cell_type": "code",
   "execution_count": 2,
   "metadata": {},
   "outputs": [],
   "source": [
    "df_2015 = pd.read_csv('Resources/2015.csv')\n",
    "df_2016 = pd.read_csv('Resources/2016.csv')\n",
    "df_2017 = pd.read_csv('Resources/2017.csv')\n",
    "df_2018 = pd.read_csv('Resources/2018.csv')\n",
    "df_2019 = pd.read_csv('Resources/2019.csv')\n",
    "conso_df = pd.read_csv('Resources/conso.csv')"
   ]
  },
  {
   "cell_type": "code",
   "execution_count": 3,
   "metadata": {},
   "outputs": [
    {
     "data": {
      "text/html": [
       "<div>\n",
       "<style scoped>\n",
       "    .dataframe tbody tr th:only-of-type {\n",
       "        vertical-align: middle;\n",
       "    }\n",
       "\n",
       "    .dataframe tbody tr th {\n",
       "        vertical-align: top;\n",
       "    }\n",
       "\n",
       "    .dataframe thead th {\n",
       "        text-align: right;\n",
       "    }\n",
       "</style>\n",
       "<table border=\"1\" class=\"dataframe\">\n",
       "  <thead>\n",
       "    <tr style=\"text-align: right;\">\n",
       "      <th></th>\n",
       "      <th>Unnamed: 0</th>\n",
       "      <th>Country</th>\n",
       "      <th>Year</th>\n",
       "      <th>Happiness Rank</th>\n",
       "      <th>Happiness Score</th>\n",
       "      <th>Economy (GDP per Capita)</th>\n",
       "      <th>Family/Social Support</th>\n",
       "      <th>Health (Life Expectancy)</th>\n",
       "      <th>Freedom</th>\n",
       "      <th>Trust (Government Corruption)</th>\n",
       "      <th>Generosity</th>\n",
       "    </tr>\n",
       "  </thead>\n",
       "  <tbody>\n",
       "    <tr>\n",
       "      <th>0</th>\n",
       "      <td>0</td>\n",
       "      <td>Finland</td>\n",
       "      <td>2019</td>\n",
       "      <td>1</td>\n",
       "      <td>7.769</td>\n",
       "      <td>1.340</td>\n",
       "      <td>1.587</td>\n",
       "      <td>0.986</td>\n",
       "      <td>0.596</td>\n",
       "      <td>0.393</td>\n",
       "      <td>0.153</td>\n",
       "    </tr>\n",
       "    <tr>\n",
       "      <th>1</th>\n",
       "      <td>1</td>\n",
       "      <td>Denmark</td>\n",
       "      <td>2019</td>\n",
       "      <td>2</td>\n",
       "      <td>7.600</td>\n",
       "      <td>1.383</td>\n",
       "      <td>1.573</td>\n",
       "      <td>0.996</td>\n",
       "      <td>0.592</td>\n",
       "      <td>0.410</td>\n",
       "      <td>0.252</td>\n",
       "    </tr>\n",
       "    <tr>\n",
       "      <th>2</th>\n",
       "      <td>2</td>\n",
       "      <td>Norway</td>\n",
       "      <td>2019</td>\n",
       "      <td>3</td>\n",
       "      <td>7.554</td>\n",
       "      <td>1.488</td>\n",
       "      <td>1.582</td>\n",
       "      <td>1.028</td>\n",
       "      <td>0.603</td>\n",
       "      <td>0.341</td>\n",
       "      <td>0.271</td>\n",
       "    </tr>\n",
       "    <tr>\n",
       "      <th>3</th>\n",
       "      <td>3</td>\n",
       "      <td>Iceland</td>\n",
       "      <td>2019</td>\n",
       "      <td>4</td>\n",
       "      <td>7.494</td>\n",
       "      <td>1.380</td>\n",
       "      <td>1.624</td>\n",
       "      <td>1.026</td>\n",
       "      <td>0.591</td>\n",
       "      <td>0.118</td>\n",
       "      <td>0.354</td>\n",
       "    </tr>\n",
       "    <tr>\n",
       "      <th>4</th>\n",
       "      <td>4</td>\n",
       "      <td>Netherlands</td>\n",
       "      <td>2019</td>\n",
       "      <td>5</td>\n",
       "      <td>7.488</td>\n",
       "      <td>1.396</td>\n",
       "      <td>1.522</td>\n",
       "      <td>0.999</td>\n",
       "      <td>0.557</td>\n",
       "      <td>0.298</td>\n",
       "      <td>0.322</td>\n",
       "    </tr>\n",
       "  </tbody>\n",
       "</table>\n",
       "</div>"
      ],
      "text/plain": [
       "   Unnamed: 0      Country  Year  Happiness Rank  Happiness Score  \\\n",
       "0           0      Finland  2019               1            7.769   \n",
       "1           1      Denmark  2019               2            7.600   \n",
       "2           2       Norway  2019               3            7.554   \n",
       "3           3      Iceland  2019               4            7.494   \n",
       "4           4  Netherlands  2019               5            7.488   \n",
       "\n",
       "   Economy (GDP per Capita)  Family/Social Support  Health (Life Expectancy)  \\\n",
       "0                     1.340                  1.587                     0.986   \n",
       "1                     1.383                  1.573                     0.996   \n",
       "2                     1.488                  1.582                     1.028   \n",
       "3                     1.380                  1.624                     1.026   \n",
       "4                     1.396                  1.522                     0.999   \n",
       "\n",
       "   Freedom  Trust (Government Corruption)  Generosity  \n",
       "0    0.596                          0.393       0.153  \n",
       "1    0.592                          0.410       0.252  \n",
       "2    0.603                          0.341       0.271  \n",
       "3    0.591                          0.118       0.354  \n",
       "4    0.557                          0.298       0.322  "
      ]
     },
     "execution_count": 3,
     "metadata": {},
     "output_type": "execute_result"
    }
   ],
   "source": [
    "df_2019.head()\n"
   ]
  },
  {
   "cell_type": "code",
   "execution_count": 4,
   "metadata": {},
   "outputs": [
    {
     "data": {
      "text/plain": [
       "0.018998295385365974"
      ]
     },
     "execution_count": 4,
     "metadata": {},
     "output_type": "execute_result"
    }
   ],
   "source": [
    "# Standard deviation for happiness score for 5 yesrs\n",
    "mean_happy_2015 = df_2015[\"Happiness Score\"].mean()\n",
    "mean_happy_2016 = df_2016[\"Happiness Score\"].mean()\n",
    "mean_happy_2017 = df_2017[\"Happiness Score\"].mean()\n",
    "mean_happy_2018 = df_2018[\"Happiness Score\"].mean()\n",
    "mean_happy_2019 = df_2019[\"Happiness Score\"].mean()\n",
    "happy_line_df = pd.DataFrame({\"Year\": [\"2015\",\"2016\",\"2017\",\"2018\",\"2019\"], \n",
    "                             \"Happiness Score\":[mean_happy_2015,mean_happy_2016,mean_happy_2017,mean_happy_2018,mean_happy_2019]})\n",
    "happy_line_df\n",
    "happy_line_df[\"Happiness Score\"].std()"
   ]
  },
  {
   "cell_type": "code",
   "execution_count": 5,
   "metadata": {},
   "outputs": [
    {
     "data": {
      "text/plain": [
       "0.0542173150092362"
      ]
     },
     "execution_count": 5,
     "metadata": {},
     "output_type": "execute_result"
    }
   ],
   "source": [
    "# Standard deviation for Economy (GDP per Capita) for 5 years\n",
    "mean_eco_2015 = df_2015[\"Economy (GDP per Capita)\"].mean()\n",
    "mean_eco_2016 = df_2016[\"Economy (GDP per Capita)\"].mean()\n",
    "mean_eco_2017 = df_2017[\"Economy (GDP per Capita)\"].mean()\n",
    "mean_eco_2018 = df_2018[\"Economy (GDP per Capita)\"].mean()\n",
    "mean_eco_2019 = df_2019[\"Economy (GDP per Capita)\"].mean()\n",
    "eco_line_df = pd.DataFrame({\"Year\": [\"2015\",\"2016\",\"2017\",\"2018\",\"2019\"], \n",
    "                             \"Economy (GDP per Capita)\":[mean_eco_2015,mean_eco_2016,mean_eco_2017,mean_eco_2018,mean_eco_2019]})\n",
    "eco_line_df[\"Economy (GDP per Capita)\"].std()"
   ]
  },
  {
   "cell_type": "code",
   "execution_count": 6,
   "metadata": {},
   "outputs": [
    {
     "data": {
      "text/plain": [
       "0.18447615200382958"
      ]
     },
     "execution_count": 6,
     "metadata": {},
     "output_type": "execute_result"
    }
   ],
   "source": [
    "# Standard deviation for Family/Social Support for 5 years\n",
    "mean_fam_2015 = df_2015[\"Family/Social Support\"].mean()\n",
    "mean_fam_2016 = df_2016[\"Family/Social Support\"].mean()\n",
    "mean_fam_2017 = df_2017[\"Family/Social Support\"].mean()\n",
    "mean_fam_2018 = df_2018[\"Family/Social Support\"].mean()\n",
    "mean_fam_2019 = df_2019[\"Family/Social Support\"].mean()\n",
    "fam_line_df = pd.DataFrame({\"Year\": [\"2015\",\"2016\",\"2017\",\"2018\",\"2019\"], \n",
    "                             \"Family/Social Support\":[mean_fam_2015,mean_fam_2016,mean_fam_2017,mean_fam_2018,mean_fam_2019]})\n",
    "fam_line_df[\"Family/Social Support\"].std()"
   ]
  },
  {
   "cell_type": "code",
   "execution_count": 7,
   "metadata": {},
   "outputs": [
    {
     "data": {
      "text/plain": [
       "0.07072558200497686"
      ]
     },
     "execution_count": 7,
     "metadata": {},
     "output_type": "execute_result"
    }
   ],
   "source": [
    "# Standard deviation for Health (Life Expectancy) for 5 years\n",
    "mean_health_2015 = df_2015[\"Health (Life Expectancy)\"].mean()\n",
    "mean_health_2016 = df_2016[\"Health (Life Expectancy)\"].mean()\n",
    "mean_health_2017 = df_2017[\"Health (Life Expectancy)\"].mean()\n",
    "mean_health_2018 = df_2018[\"Health (Life Expectancy)\"].mean()\n",
    "mean_health_2019 = df_2019[\"Health (Life Expectancy)\"].mean()\n",
    "health_line_df = pd.DataFrame({\"Year\": [\"2015\",\"2016\",\"2017\",\"2018\",\"2019\"], \n",
    "                             \"Health (Life Expectancy)\":[mean_health_2015,mean_health_2016,mean_health_2017,mean_health_2018,mean_health_2019]})\n",
    "health_line_df[\"Health (Life Expectancy)\"].std()"
   ]
  },
  {
   "cell_type": "code",
   "execution_count": 8,
   "metadata": {},
   "outputs": [
    {
     "data": {
      "text/plain": [
       "0.03220281955174552"
      ]
     },
     "execution_count": 8,
     "metadata": {},
     "output_type": "execute_result"
    }
   ],
   "source": [
    "# Standard deviation for Freedom for 5 years\n",
    "Freedom_2015 = df_2015[\"Freedom\"].mean()\n",
    "Freedom_2016 = df_2016[\"Freedom\"].mean()\n",
    "Freedom_2017 = df_2017[\"Freedom\"].mean()\n",
    "Freedom_2018 = df_2018[\"Freedom\"].mean()\n",
    "Freedom_2019 = df_2019[\"Freedom\"].mean()\n",
    "Freedom_df = pd.DataFrame({\"Year\": [\"2015\",\"2016\",\"2017\",\"2018\",\"2019\"], \n",
    "                             \"Freedom\":[Freedom_2015,Freedom_2016,Freedom_2017,Freedom_2018,Freedom_2019]})\n",
    "Freedom_df[\"Freedom\"].std()"
   ]
  },
  {
   "cell_type": "code",
   "execution_count": 9,
   "metadata": {},
   "outputs": [
    {
     "data": {
      "text/plain": [
       "0.014814837028513286"
      ]
     },
     "execution_count": 9,
     "metadata": {},
     "output_type": "execute_result"
    }
   ],
   "source": [
    "# Standard deviation for Trust (Government Corruption) for 5 years\n",
    "Trust_2015 = df_2015[\"Trust (Government Corruption)\"].mean()\n",
    "Trust_2016 = df_2016[\"Trust (Government Corruption)\"].mean()\n",
    "Trust_2017 = df_2017[\"Trust (Government Corruption)\"].mean()\n",
    "Trust_2018 = df_2018[\"Trust (Government Corruption)\"].mean()\n",
    "Trust_2019 = df_2019[\"Trust (Government Corruption)\"].mean()\n",
    "Trust_df = pd.DataFrame({\"Year\": [\"2015\",\"2016\",\"2017\",\"2018\",\"2019\"], \n",
    "                             \"Trust (Government Corruption)\":[Trust_2015,Trust_2016,Trust_2017,Trust_2018,Trust_2019]})\n",
    "Trust_df[\"Trust (Government Corruption)\"].std()"
   ]
  },
  {
   "cell_type": "code",
   "execution_count": 10,
   "metadata": {},
   "outputs": [
    {
     "data": {
      "text/plain": [
       "0.03270982736243706"
      ]
     },
     "execution_count": 10,
     "metadata": {},
     "output_type": "execute_result"
    }
   ],
   "source": [
    "# Standard deviation for Generosity for 5 years\n",
    "mean_gener_2015 = df_2015[\"Generosity\"].mean()\n",
    "mean_gener_2016 = df_2016[\"Generosity\"].mean()\n",
    "mean_gener_2017 = df_2017[\"Generosity\"].mean()\n",
    "mean_gener_2018 = df_2018[\"Generosity\"].mean()\n",
    "mean_gener_2019 = df_2019[\"Generosity\"].mean()\n",
    "gener_line_df = pd.DataFrame({\"Year\": [\"2015\",\"2016\",\"2017\",\"2018\",\"2019\"], \n",
    "                             \"Generosity\":[mean_gener_2015,mean_gener_2016,mean_gener_2017,mean_gener_2018,mean_gener_2019]})\n",
    "gener_line_df[\"Generosity\"].std()\n"
   ]
  },
  {
   "cell_type": "code",
   "execution_count": 15,
   "metadata": {},
   "outputs": [
    {
     "data": {
      "image/png": "[encoded data removed]",
      "text/plain": [
       "<Figure size 720x360 with 1 Axes>"
      ]
     },
     "metadata": {},
     "output_type": "display_data"
    }
   ],
   "source": [
    "# Standard Deviation of Happiness Metrics 2015-2019\n",
    "happy_std = happy_line_df[\"Happiness Score\"].std()\n",
    "eco_std =eco_line_df[\"Economy (GDP per Capita)\"].std()\n",
    "fam_std =fam_line_df[\"Family/Social Support\"].std()\n",
    "health_std =health_line_df[\"Health (Life Expectancy)\"].std()\n",
    "freedom_std =Freedom_df[\"Freedom\"].std()\n",
    "trust_std =Trust_df[\"Trust (Government Corruption)\"].std()\n",
    "gener_std =gener_line_df[\"Generosity\"].std()\n",
    "\n",
    "std_df = pd.DataFrame({\"Factor\": [\"Happiness Score\",\"Economy (GDP per Capita)\",\"Family/Social Support\"\n",
    "                                ,\"Health (Life Expectancy)\",\"Freedom\",\"Trust (Government Corruption)\",\"Generosity\"], \n",
    "                             \"Standard Deviation\":[happy_std,eco_std,fam_std,health_std,freedom_std,trust_std,\n",
    "                                                gener_std]})\n",
    "std_df\n",
    "\n",
    "x_axis= std_df[\"Factor\"]\n",
    "plt.figure(figsize=(10,5))\n",
    "plt.style.use(\"ggplot\")\n",
    "plt.bar(x_axis, std_df[\"Standard Deviation\"], color='darkgoldenrod', alpha=0.75)\n",
    "tick_locations = [value for value in x_axis]\n",
    "plt.xticks(tick_locations, [\"Happiness Score\",\"Economy (GDP per Capita)\",\"Family/Social Support\"\n",
    "                                ,\"Health (Life Expectancy)\",\"Freedom\",\"Trust (Government Corruption)\",\"Generosity\"])\n",
    "plt.xticks(rotation=90)\n",
    "\n",
    "plt.ylabel(\"Number of Data Points\")\n",
    "\n",
    "plt.title(\"Standard Deviation of Mean Happiness Score from 2015-2019\")\n",
    "\n",
    "png_filepath = \"Images/Standard Deviation of Happiness Metrics 2015-2019.png\"\n",
    "\n",
    "plt.savefig(png_filepath)"
   ]
  },
  {
   "cell_type": "markdown",
   "metadata": {},
   "source": [
    "# Analysis of Standard Deviation bar chart\n"
   ]
  },
  {
   "cell_type": "markdown",
   "metadata": {},
   "source": [
    "The standard deviation of the Happiness score is less than each of the happiness factors that make it up.\n",
    "\n",
    "Even though there is much variation in family, economy, and health, the overall happiness score does not move much.\n",
    "\n",
    "When the score in on factor falls, another factor rises and makes up the difference. And vice versa."
   ]
  },
  {
   "cell_type": "code",
   "execution_count": null,
   "metadata": {},
   "outputs": [],
   "source": []
  }
 ],
 "metadata": {
  "kernelspec": {
   "display_name": "Python 3",
   "language": "python",
   "name": "python3"
  },
  "language_info": {
   "codemirror_mode": {
    "name": "ipython",
    "version": 3
   },
   "file_extension": ".py",
   "mimetype": "text/x-python",
   "name": "python",
   "nbconvert_exporter": "python",
   "pygments_lexer": "ipython3",
   "version": "3.6.10"
  },
  "toc": {
   "base_numbering": 1,
   "nav_menu": {},
   "number_sections": true,
   "sideBar": true,
   "skip_h1_title": false,
   "title_cell": "Table of Contents",
   "title_sidebar": "Contents",
   "toc_cell": false,
   "toc_position": {},
   "toc_section_display": true,
   "toc_window_display": false
  }
 },
 "nbformat": 4,
 "nbformat_minor": 2
}
