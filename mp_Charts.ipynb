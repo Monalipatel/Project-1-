{
 "cells": [
  {
   "cell_type": "code",
   "execution_count": 7,
   "metadata": {},
   "outputs": [],
   "source": [
    "import pandas as pd\n",
    "import matplotlib.pyplot as plt\n"
   ]
  },
  {
   "cell_type": "code",
   "execution_count": 8,
   "metadata": {},
   "outputs": [],
   "source": [
    "df_2015 = pd.read_csv('Resources/2015.csv')\n",
    "df_2016 = pd.read_csv('Resources/2016.csv')\n",
    "df_2017 = pd.read_csv('Resources/2017.csv')\n",
    "df_2018 = pd.read_csv('Resources/2018.csv')\n",
    "df_2019 = pd.read_csv('Resources/2019.csv')\n",
    "conso_df = pd.read_csv('Resources/conso.csv')"
   ]
  },
  {
   "cell_type": "code",
   "execution_count": 9,
   "metadata": {
    "scrolled": false
   },
   "outputs": [
    {
     "data": {
      "text/html": [
       "<div>\n",
       "<style scoped>\n",
       "    .dataframe tbody tr th:only-of-type {\n",
       "        vertical-align: middle;\n",
       "    }\n",
       "\n",
       "    .dataframe tbody tr th {\n",
       "        vertical-align: top;\n",
       "    }\n",
       "\n",
       "    .dataframe thead th {\n",
       "        text-align: right;\n",
       "    }\n",
       "</style>\n",
       "<table border=\"1\" class=\"dataframe\">\n",
       "  <thead>\n",
       "    <tr style=\"text-align: right;\">\n",
       "      <th></th>\n",
       "      <th>Country</th>\n",
       "      <th>Year</th>\n",
       "      <th>Happiness Rank</th>\n",
       "      <th>Happiness Score</th>\n",
       "      <th>Economy (GDP per Capita)</th>\n",
       "      <th>Family/Social Support</th>\n",
       "      <th>Health (Life Expectancy)</th>\n",
       "      <th>Freedom</th>\n",
       "      <th>Trust (Government Corruption)</th>\n",
       "      <th>Generosity</th>\n",
       "    </tr>\n",
       "  </thead>\n",
       "  <tbody>\n",
       "    <tr>\n",
       "      <td>0</td>\n",
       "      <td>Switzerland</td>\n",
       "      <td>2015</td>\n",
       "      <td>1</td>\n",
       "      <td>7.587</td>\n",
       "      <td>1.39651</td>\n",
       "      <td>1.34951</td>\n",
       "      <td>0.94143</td>\n",
       "      <td>0.66557</td>\n",
       "      <td>0.41978</td>\n",
       "      <td>0.29678</td>\n",
       "    </tr>\n",
       "    <tr>\n",
       "      <td>1</td>\n",
       "      <td>Iceland</td>\n",
       "      <td>2015</td>\n",
       "      <td>2</td>\n",
       "      <td>7.561</td>\n",
       "      <td>1.30232</td>\n",
       "      <td>1.40223</td>\n",
       "      <td>0.94784</td>\n",
       "      <td>0.62877</td>\n",
       "      <td>0.14145</td>\n",
       "      <td>0.43630</td>\n",
       "    </tr>\n",
       "    <tr>\n",
       "      <td>2</td>\n",
       "      <td>Denmark</td>\n",
       "      <td>2015</td>\n",
       "      <td>3</td>\n",
       "      <td>7.527</td>\n",
       "      <td>1.32548</td>\n",
       "      <td>1.36058</td>\n",
       "      <td>0.87464</td>\n",
       "      <td>0.64938</td>\n",
       "      <td>0.48357</td>\n",
       "      <td>0.34139</td>\n",
       "    </tr>\n",
       "    <tr>\n",
       "      <td>3</td>\n",
       "      <td>Norway</td>\n",
       "      <td>2015</td>\n",
       "      <td>4</td>\n",
       "      <td>7.522</td>\n",
       "      <td>1.45900</td>\n",
       "      <td>1.33095</td>\n",
       "      <td>0.88521</td>\n",
       "      <td>0.66973</td>\n",
       "      <td>0.36503</td>\n",
       "      <td>0.34699</td>\n",
       "    </tr>\n",
       "    <tr>\n",
       "      <td>4</td>\n",
       "      <td>Canada</td>\n",
       "      <td>2015</td>\n",
       "      <td>5</td>\n",
       "      <td>7.427</td>\n",
       "      <td>1.32629</td>\n",
       "      <td>1.32261</td>\n",
       "      <td>0.90563</td>\n",
       "      <td>0.63297</td>\n",
       "      <td>0.32957</td>\n",
       "      <td>0.45811</td>\n",
       "    </tr>\n",
       "  </tbody>\n",
       "</table>\n",
       "</div>"
      ],
      "text/plain": [
       "       Country  Year  Happiness Rank  Happiness Score  \\\n",
       "0  Switzerland  2015               1            7.587   \n",
       "1      Iceland  2015               2            7.561   \n",
       "2      Denmark  2015               3            7.527   \n",
       "3       Norway  2015               4            7.522   \n",
       "4       Canada  2015               5            7.427   \n",
       "\n",
       "   Economy (GDP per Capita)  Family/Social Support  Health (Life Expectancy)  \\\n",
       "0                   1.39651                1.34951                   0.94143   \n",
       "1                   1.30232                1.40223                   0.94784   \n",
       "2                   1.32548                1.36058                   0.87464   \n",
       "3                   1.45900                1.33095                   0.88521   \n",
       "4                   1.32629                1.32261                   0.90563   \n",
       "\n",
       "   Freedom  Trust (Government Corruption)  Generosity  \n",
       "0  0.66557                        0.41978     0.29678  \n",
       "1  0.62877                        0.14145     0.43630  \n",
       "2  0.64938                        0.48357     0.34139  \n",
       "3  0.66973                        0.36503     0.34699  \n",
       "4  0.63297                        0.32957     0.45811  "
      ]
     },
     "execution_count": 9,
     "metadata": {},
     "output_type": "execute_result"
    }
   ],
   "source": [
    "df_2015.head()"
   ]
  },
  {
   "cell_type": "code",
   "execution_count": 10,
   "metadata": {},
   "outputs": [],
   "source": [
    "def linegraph(x_values, y_values, xlabel, ylabel, title, png_filepath):\n",
    "    plt.plot(x_values, y_values, marker = \"P\", color = \"blue\")\n",
    "    plt.xlabel(xlabel)\n",
    "    plt.ylabel(ylabel)\n",
    "    plt.title(title)\n",
    "    plt.savefig(png_filepath)\n",
    "    plt.show()  "
   ]
  },
  {
   "cell_type": "markdown",
   "metadata": {},
   "source": [
    "# Happiness Score Mean vs Year"
   ]
  },
  {
   "cell_type": "code",
   "execution_count": 11,
   "metadata": {},
   "outputs": [
    {
     "data": {
      "text/html": [
       "<div>\n",
       "<style scoped>\n",
       "    .dataframe tbody tr th:only-of-type {\n",
       "        vertical-align: middle;\n",
       "    }\n",
       "\n",
       "    .dataframe tbody tr th {\n",
       "        vertical-align: top;\n",
       "    }\n",
       "\n",
       "    .dataframe thead th {\n",
       "        text-align: right;\n",
       "    }\n",
       "</style>\n",
       "<table border=\"1\" class=\"dataframe\">\n",
       "  <thead>\n",
       "    <tr style=\"text-align: right;\">\n",
       "      <th></th>\n",
       "      <th>Year</th>\n",
       "      <th>Happiness Score</th>\n",
       "    </tr>\n",
       "  </thead>\n",
       "  <tbody>\n",
       "    <tr>\n",
       "      <td>0</td>\n",
       "      <td>2015</td>\n",
       "      <td>5.375734</td>\n",
       "    </tr>\n",
       "    <tr>\n",
       "      <td>1</td>\n",
       "      <td>2016</td>\n",
       "      <td>5.382185</td>\n",
       "    </tr>\n",
       "    <tr>\n",
       "      <td>2</td>\n",
       "      <td>2017</td>\n",
       "      <td>5.354019</td>\n",
       "    </tr>\n",
       "    <tr>\n",
       "      <td>3</td>\n",
       "      <td>2018</td>\n",
       "      <td>5.375917</td>\n",
       "    </tr>\n",
       "    <tr>\n",
       "      <td>4</td>\n",
       "      <td>2019</td>\n",
       "      <td>5.407096</td>\n",
       "    </tr>\n",
       "  </tbody>\n",
       "</table>\n",
       "</div>"
      ],
      "text/plain": [
       "   Year  Happiness Score\n",
       "0  2015         5.375734\n",
       "1  2016         5.382185\n",
       "2  2017         5.354019\n",
       "3  2018         5.375917\n",
       "4  2019         5.407096"
      ]
     },
     "execution_count": 11,
     "metadata": {},
     "output_type": "execute_result"
    }
   ],
   "source": [
    "#happiness score for 5 yesrs\n",
    "mean_happy_2015 = df_2015[\"Happiness Score\"].mean()\n",
    "mean_happy_2016 = df_2016[\"Happiness Score\"].mean()\n",
    "mean_happy_2017 = df_2017[\"Happiness Score\"].mean()\n",
    "mean_happy_2018 = df_2018[\"Happiness Score\"].mean()\n",
    "mean_happy_2019 = df_2019[\"Happiness Score\"].mean()\n",
    "happy_line_df = pd.DataFrame({\"Year\": [\"2015\",\"2016\",\"2017\",\"2018\",\"2019\"], \n",
    "                             \"Happiness Score\":[mean_happy_2015,mean_happy_2016,mean_happy_2017,mean_happy_2018,mean_happy_2019]})\n",
    "happy_line_df"
   ]
  },
  {
   "cell_type": "code",
   "execution_count": 12,
   "metadata": {},
   "outputs": [
    {
     "data": {
      "image/png": "[encoded data removed]",
      "text/plain": [
       "<Figure size 432x288 with 1 Axes>"
      ]
     },
     "metadata": {
      "needs_background": "light"
     },
     "output_type": "display_data"
    }
   ],
   "source": [
    "#line graph\n",
    "\n",
    "x_values = happy_line_df[\"Year\"]\n",
    "y_values = happy_line_df[\"Happiness Score\"]\n",
    "xlabel = \"Year\"\n",
    "ylabel = \"Happiness Score\"\n",
    "title = \"Mean Happiness Score from 2015-2019\"\n",
    "png_filepath = \"Images/Mean_Hap_Sco_from_2015-2019.png\"\n",
    "\n",
    "linegraph(x_values, y_values, xlabel, ylabel, title, png_filepath)"
   ]
  },
  {
   "cell_type": "markdown",
   "metadata": {},
   "source": [
    "# Mean Economy Per Year - Line"
   ]
  },
  {
   "cell_type": "code",
   "execution_count": 13,
   "metadata": {},
   "outputs": [
    {
     "data": {
      "text/html": [
       "<div>\n",
       "<style scoped>\n",
       "    .dataframe tbody tr th:only-of-type {\n",
       "        vertical-align: middle;\n",
       "    }\n",
       "\n",
       "    .dataframe tbody tr th {\n",
       "        vertical-align: top;\n",
       "    }\n",
       "\n",
       "    .dataframe thead th {\n",
       "        text-align: right;\n",
       "    }\n",
       "</style>\n",
       "<table border=\"1\" class=\"dataframe\">\n",
       "  <thead>\n",
       "    <tr style=\"text-align: right;\">\n",
       "      <th></th>\n",
       "      <th>Year</th>\n",
       "      <th>Economy (GDP per Capita)</th>\n",
       "    </tr>\n",
       "  </thead>\n",
       "  <tbody>\n",
       "    <tr>\n",
       "      <td>0</td>\n",
       "      <td>2015</td>\n",
       "      <td>0.846137</td>\n",
       "    </tr>\n",
       "    <tr>\n",
       "      <td>1</td>\n",
       "      <td>2016</td>\n",
       "      <td>0.953880</td>\n",
       "    </tr>\n",
       "    <tr>\n",
       "      <td>2</td>\n",
       "      <td>2017</td>\n",
       "      <td>0.984718</td>\n",
       "    </tr>\n",
       "    <tr>\n",
       "      <td>3</td>\n",
       "      <td>2018</td>\n",
       "      <td>0.891449</td>\n",
       "    </tr>\n",
       "    <tr>\n",
       "      <td>4</td>\n",
       "      <td>2019</td>\n",
       "      <td>0.905147</td>\n",
       "    </tr>\n",
       "  </tbody>\n",
       "</table>\n",
       "</div>"
      ],
      "text/plain": [
       "   Year  Economy (GDP per Capita)\n",
       "0  2015                  0.846137\n",
       "1  2016                  0.953880\n",
       "2  2017                  0.984718\n",
       "3  2018                  0.891449\n",
       "4  2019                  0.905147"
      ]
     },
     "execution_count": 13,
     "metadata": {},
     "output_type": "execute_result"
    }
   ],
   "source": [
    "mean_eco_2015 = df_2015[\"Economy (GDP per Capita)\"].mean()\n",
    "mean_eco_2016 = df_2016[\"Economy (GDP per Capita)\"].mean()\n",
    "mean_eco_2017 = df_2017[\"Economy (GDP per Capita)\"].mean()\n",
    "mean_eco_2018 = df_2018[\"Economy (GDP per Capita)\"].mean()\n",
    "mean_eco_2019 = df_2019[\"Economy (GDP per Capita)\"].mean()\n",
    "eco_line_df = pd.DataFrame({\"Year\": [\"2015\",\"2016\",\"2017\",\"2018\",\"2019\"], \n",
    "                             \"Economy (GDP per Capita)\":[mean_eco_2015,mean_eco_2016,mean_eco_2017,mean_eco_2018,mean_eco_2019]})\n",
    "eco_line_df"
   ]
  },
  {
   "cell_type": "code",
   "execution_count": 14,
   "metadata": {},
   "outputs": [
    {
     "data": {
      "image/png": "[encoded data removed]",
      "text/plain": [
       "<Figure size 432x288 with 1 Axes>"
      ]
     },
     "metadata": {
      "needs_background": "light"
     },
     "output_type": "display_data"
    }
   ],
   "source": [
    "#line graph\n",
    "\n",
    "x_values = eco_line_df[\"Year\"]\n",
    "y_values = eco_line_df[\"Economy (GDP per Capita)\"]\n",
    "xlabel = \"Year\"\n",
    "ylabel = \"Economy (GDP per Capita)\"\n",
    "title = \"Mean Economy (GDP per Capita) from 2015-2019\"\n",
    "png_filepath = \"Images/Mean_Eco_from_2015-2019.png\"\n",
    "\n",
    "linegraph(x_values, y_values, xlabel, ylabel, title, png_filepath)"
   ]
  },
  {
   "cell_type": "code",
   "execution_count": 15,
   "metadata": {},
   "outputs": [
    {
     "data": {
      "text/html": [
       "<div>\n",
       "<style scoped>\n",
       "    .dataframe tbody tr th:only-of-type {\n",
       "        vertical-align: middle;\n",
       "    }\n",
       "\n",
       "    .dataframe tbody tr th {\n",
       "        vertical-align: top;\n",
       "    }\n",
       "\n",
       "    .dataframe thead th {\n",
       "        text-align: right;\n",
       "    }\n",
       "</style>\n",
       "<table border=\"1\" class=\"dataframe\">\n",
       "  <thead>\n",
       "    <tr style=\"text-align: right;\">\n",
       "      <th></th>\n",
       "      <th>Year</th>\n",
       "      <th>Freedom</th>\n",
       "    </tr>\n",
       "  </thead>\n",
       "  <tbody>\n",
       "    <tr>\n",
       "      <td>0</td>\n",
       "      <td>2015</td>\n",
       "      <td>0.428615</td>\n",
       "    </tr>\n",
       "    <tr>\n",
       "      <td>1</td>\n",
       "      <td>2016</td>\n",
       "      <td>0.370994</td>\n",
       "    </tr>\n",
       "    <tr>\n",
       "      <td>2</td>\n",
       "      <td>2017</td>\n",
       "      <td>0.408786</td>\n",
       "    </tr>\n",
       "    <tr>\n",
       "      <td>3</td>\n",
       "      <td>2018</td>\n",
       "      <td>0.454506</td>\n",
       "    </tr>\n",
       "    <tr>\n",
       "      <td>4</td>\n",
       "      <td>2019</td>\n",
       "      <td>0.392571</td>\n",
       "    </tr>\n",
       "  </tbody>\n",
       "</table>\n",
       "</div>"
      ],
      "text/plain": [
       "   Year   Freedom\n",
       "0  2015  0.428615\n",
       "1  2016  0.370994\n",
       "2  2017  0.408786\n",
       "3  2018  0.454506\n",
       "4  2019  0.392571"
      ]
     },
     "execution_count": 15,
     "metadata": {},
     "output_type": "execute_result"
    }
   ],
   "source": [
    "Freedom_2015 = df_2015[\"Freedom\"].mean()\n",
    "Freedom_2016 = df_2016[\"Freedom\"].mean()\n",
    "Freedom_2017 = df_2017[\"Freedom\"].mean()\n",
    "Freedom_2018 = df_2018[\"Freedom\"].mean()\n",
    "Freedom_2019 = df_2019[\"Freedom\"].mean()\n",
    "Freedom_df = pd.DataFrame({\"Year\": [\"2015\",\"2016\",\"2017\",\"2018\",\"2019\"], \n",
    "                             \"Freedom\":[Freedom_2015,Freedom_2016,Freedom_2017,Freedom_2018,Freedom_2019]})\n",
    "Freedom_df"
   ]
  },
  {
   "cell_type": "code",
   "execution_count": 17,
   "metadata": {},
   "outputs": [
    {
     "data": {
      "image/png": "[encoded data removed]",
      "text/plain": [
       "<Figure size 432x288 with 1 Axes>"
      ]
     },
     "metadata": {
      "needs_background": "light"
     },
     "output_type": "display_data"
    }
   ],
   "source": [
    "#line graph\n",
    "\n",
    "x_values = Freedom_df[\"Year\"]\n",
    "y_values = Freedom_df[\"Freedom\"]\n",
    "xlabel = \"Year\"\n",
    "ylabel = \"Freedom\"\n",
    "title = \"Mean Freedom from 2015-2019\"\n",
    "png_filepath = \"Images/Mean_Freedom_from_2015-2019.png\"\n",
    "\n",
    "linegraph(x_values, y_values, xlabel, ylabel, title, png_filepath)"
   ]
  },
  {
   "cell_type": "code",
   "execution_count": 18,
   "metadata": {},
   "outputs": [
    {
     "data": {
      "text/html": [
       "<div>\n",
       "<style scoped>\n",
       "    .dataframe tbody tr th:only-of-type {\n",
       "        vertical-align: middle;\n",
       "    }\n",
       "\n",
       "    .dataframe tbody tr th {\n",
       "        vertical-align: top;\n",
       "    }\n",
       "\n",
       "    .dataframe thead th {\n",
       "        text-align: right;\n",
       "    }\n",
       "</style>\n",
       "<table border=\"1\" class=\"dataframe\">\n",
       "  <thead>\n",
       "    <tr style=\"text-align: right;\">\n",
       "      <th></th>\n",
       "      <th>Year</th>\n",
       "      <th>Trust (Government Corruption)</th>\n",
       "    </tr>\n",
       "  </thead>\n",
       "  <tbody>\n",
       "    <tr>\n",
       "      <td>0</td>\n",
       "      <td>2015</td>\n",
       "      <td>0.143422</td>\n",
       "    </tr>\n",
       "    <tr>\n",
       "      <td>1</td>\n",
       "      <td>2016</td>\n",
       "      <td>0.137624</td>\n",
       "    </tr>\n",
       "    <tr>\n",
       "      <td>2</td>\n",
       "      <td>2017</td>\n",
       "      <td>0.123120</td>\n",
       "    </tr>\n",
       "    <tr>\n",
       "      <td>3</td>\n",
       "      <td>2018</td>\n",
       "      <td>0.112000</td>\n",
       "    </tr>\n",
       "    <tr>\n",
       "      <td>4</td>\n",
       "      <td>2019</td>\n",
       "      <td>0.184846</td>\n",
       "    </tr>\n",
       "  </tbody>\n",
       "</table>\n",
       "</div>"
      ],
      "text/plain": [
       "   Year  Trust (Government Corruption)\n",
       "0  2015                       0.143422\n",
       "1  2016                       0.137624\n",
       "2  2017                       0.123120\n",
       "3  2018                       0.112000\n",
       "4  2019                       0.184846"
      ]
     },
     "execution_count": 18,
     "metadata": {},
     "output_type": "execute_result"
    }
   ],
   "source": [
    "Trust_2015 = df_2015[\"Trust (Government Corruption)\"].mean()\n",
    "Trust_2016 = df_2016[\"Trust (Government Corruption)\"].mean()\n",
    "Trust_2017 = df_2017[\"Trust (Government Corruption)\"].mean()\n",
    "Trust_2018 = df_2018[\"Trust (Government Corruption)\"].mean()\n",
    "Trust_2019 = df_2019[\"Trust (Government Corruption)\"].mean()\n",
    "Trust_df = pd.DataFrame({\"Year\": [\"2015\",\"2016\",\"2017\",\"2018\",\"2019\"], \n",
    "                             \"Trust (Government Corruption)\":[Trust_2015,Trust_2016,Trust_2017,Trust_2018,Trust_2019]})\n",
    "Trust_df"
   ]
  },
  {
   "cell_type": "code",
   "execution_count": 20,
   "metadata": {},
   "outputs": [
    {
     "data": {
      "image/png": "[encoded data removed]",
      "text/plain": [
       "<Figure size 432x288 with 1 Axes>"
      ]
     },
     "metadata": {
      "needs_background": "light"
     },
     "output_type": "display_data"
    }
   ],
   "source": [
    "#line graph\n",
    "\n",
    "x_values = Trust_df[\"Year\"]\n",
    "y_values = Trust_df[\"Trust (Government Corruption)\"]\n",
    "xlabel = \"Year\"\n",
    "ylabel = \"Trust (Government Corruption)\"\n",
    "title = \"Mean Trust (Government Corruption) from 2015-2019\"\n",
    "png_filepath = \"Images/Mean_Trust_from_2015-2019.png\"\n",
    "\n",
    "linegraph(x_values, y_values, xlabel, ylabel, title, png_filepath)"
   ]
  },
  {
   "cell_type": "code",
   "execution_count": null,
   "metadata": {},
   "outputs": [],
   "source": []
  }
 ],
 "metadata": {
  "kernelspec": {
   "display_name": "Python 3",
   "language": "python",
   "name": "python3"
  },
  "language_info": {
   "codemirror_mode": {
    "name": "ipython",
    "version": 3
   },
   "file_extension": ".py",
   "mimetype": "text/x-python",
   "name": "python",
   "nbconvert_exporter": "python",
   "pygments_lexer": "ipython3",
   "version": "3.7.4"
  },
  "toc": {
   "base_numbering": 1,
   "nav_menu": {},
   "number_sections": true,
   "sideBar": true,
   "skip_h1_title": false,
   "title_cell": "Table of Contents",
   "title_sidebar": "Contents",
   "toc_cell": false,
   "toc_position": {},
   "toc_section_display": true,
   "toc_window_display": false
  }
 },
 "nbformat": 4,
 "nbformat_minor": 2
}
